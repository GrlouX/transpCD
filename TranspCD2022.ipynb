{
  "nbformat": 4,
  "nbformat_minor": 0,
  "metadata": {
    "colab": {
      "provenance": []
    },
    "kernelspec": {
      "name": "python3",
      "display_name": "Python 3"
    },
    "language_info": {
      "name": "python"
    },
    "accelerator": "GPU",
    "gpuClass": "standard"
  },
  "cells": [
    {
      "cell_type": "markdown",
      "source": [
        "# Coleta de dados abertos da Câmara dos Deputados"
      ],
      "metadata": {
        "id": "INi9JOtu52h3"
      }
    },
    {
      "cell_type": "markdown",
      "source": [
        "**Objetivo**: Obter informações atualizadas sobre a(o)s deputada(o)s federais e suas respectivas despesas realizadas em 2022, por meio dos recursos públicos destinados à cota parlamentar - verba recebida pela(o)s deputada(o)s para custear o exercício de suas funções.  \n",
        "\n",
        "**Fonte de dados**: <a href=\"https://dadosabertos.camara.leg.br/swagger/api.html\">Dados Abertos da Câmara dos Deputados</a>"
      ],
      "metadata": {
        "id": "11XpnDyv69Z3"
      }
    },
    {
      "cell_type": "markdown",
      "source": [
        "##Carga de pacotes"
      ],
      "metadata": {
        "id": "423fVHt-RoGM"
      }
    },
    {
      "cell_type": "code",
      "execution_count": null,
      "metadata": {
        "id": "397646cH5yzw"
      },
      "outputs": [],
      "source": [
        "# Carregamento dos pacotes necessários\n",
        "import time\n",
        "import json\n",
        "import requests\n",
        "import joblib\n",
        "from google.colab import drive\n",
        "from google.colab import auth\n",
        "from googleapiclient.discovery import build\n",
        "from googleapiclient.http import MediaFileUpload"
      ]
    },
    {
      "cell_type": "markdown",
      "source": [
        "##Credenciais de acesso"
      ],
      "metadata": {
        "id": "Er8LlAM_OfXP"
      }
    },
    {
      "cell_type": "code",
      "source": [
        "# Autorizar acesso ao Google Drive\n",
        "auth.authenticate_user()\n",
        "drive_service = build('drive', 'v3')"
      ],
      "metadata": {
        "id": "eCLicMGDYpnC"
      },
      "execution_count": null,
      "outputs": []
    },
    {
      "cell_type": "code",
      "source": [
        "# Montar drive para armazenar conteúdo\n",
        "drive.mount('/content/drive')"
      ],
      "metadata": {
        "id": "J4MxELGHzAU1"
      },
      "execution_count": null,
      "outputs": []
    },
    {
      "cell_type": "markdown",
      "source": [
        "## Extração de dados da fonte"
      ],
      "metadata": {
        "id": "WaYYOYmJR4js"
      }
    },
    {
      "cell_type": "code",
      "source": [
        "# Captura dos parlamentares em exercício no ano de 2022 (parte da 56ª legislatura)\n",
        "%%time\n",
        "resp1 = requests.get(\"https://dadosabertos.camara.leg.br/api/v2/deputados?idLegislatura=56\")\n",
        "list_dept = resp1.json()['dados']\n",
        "list_id = [e['id'] for e in list_dept]"
      ],
      "metadata": {
        "id": "bInZ2XSc9CXt"
      },
      "execution_count": null,
      "outputs": []
    },
    {
      "cell_type": "code",
      "source": [
        "# Requisições das despesas dos deputados em 2022\n",
        "%%time\n",
        "dic_dept_desp = {}\n",
        "for nid in list_id:\n",
        "  listA = []\n",
        "  for pg in range(1,100):\n",
        "    resp2 = requests.get(f\"https://dadosabertos.camara.leg.br/api/v2/deputados/{str(nid)}/despesas?idLegislatura=56&ano=2022&pagina={pg}&itens=100\")\n",
        "    try:\n",
        "      listA += resp2.json()['dados']\n",
        "    except:\n",
        "      listA = listA\n",
        "    time.sleep(0.5)\n",
        "  dic_dept_desp.update({nid: listA})\n",
        "  joblib.dump(dic_dept_desp[nid],f'drive/MyDrive/ObjetosPy/listdesp{nid}') # Salvamento parcial na pasta ObjetosPy criada previamente no Google Drive"
      ],
      "metadata": {
        "id": "H5aDObDuEZFK"
      },
      "execution_count": null,
      "outputs": []
    },
    {
      "cell_type": "code",
      "source": [
        "# Carregar dados parciais/totais coletados das despesas\n",
        "dic_dept_desp = {}\n",
        "for nid in list_id:\n",
        "  try:\n",
        "    listA = joblib.load(f'drive/MyDrive/ObjetosPy/listdesp{nid}')\n",
        "    dic_dept_desp.update({nid: listA})\n",
        "  except:\n",
        "    pass"
      ],
      "metadata": {
        "id": "rmZ9DNX8tB3n"
      },
      "execution_count": null,
      "outputs": []
    },
    {
      "cell_type": "markdown",
      "source": [
        "## Limpeza e transformação dos dados extraídos"
      ],
      "metadata": {
        "id": "D9hrjL1FSIIk"
      }
    },
    {
      "cell_type": "code",
      "source": [
        "# Padronização dos e-mails dos deputados\n",
        "for nid in list_id:\n",
        "    for i, elem in enumerate(list_dept):\n",
        "        if elem['email'] is None:\n",
        "            list_dept[i]['email']='indisponibilizado'"
      ],
      "metadata": {
        "id": "VbVyg_2OO0fw"
      },
      "execution_count": null,
      "outputs": []
    },
    {
      "cell_type": "code",
      "source": [
        "# Cópia dos dados de despesas extraídos da fonte\n",
        "dic1_dept_desp = dic_dept_desp"
      ],
      "metadata": {
        "id": "JZE0BAQ3FAaV"
      },
      "execution_count": null,
      "outputs": []
    },
    {
      "cell_type": "code",
      "source": [
        "# Limpeza dos dados\n",
        "for nid in list_id:\n",
        "    for i, elem in enumerate(dic1_dept_desp[nid]):\n",
        "        for char in \"'.\":\n",
        "            dic1_dept_desp[nid][i]['nomeFornecedor']=elem['nomeFornecedor'].replace(char,\"\")\n",
        "            dic1_dept_desp[nid][i]['tipoDespesa']=elem['tipoDespesa'].replace(char,\"\")"
      ],
      "metadata": {
        "id": "bd-XRdJH90CB"
      },
      "execution_count": null,
      "outputs": []
    },
    {
      "cell_type": "code",
      "source": [
        "# Cópia dos dados limpos\n",
        "dic2_dept_desp = dic1_dept_desp"
      ],
      "metadata": {
        "id": "XKYEfYdxFIOA"
      },
      "execution_count": null,
      "outputs": []
    },
    {
      "cell_type": "code",
      "source": [
        "# Transformação dos dados\n",
        "dic_mes = {1:'Jan', 2:'Fev', 3:'Mar', 4:'Abr', 5:'Mai', 6:'Jun', 7:'Jul', 8:'Ago', 9:'Set', 10:'Out', 11:'Nov', 12:'Dez'}\n",
        "for nid in list_id:\n",
        "    for i, elem in enumerate(dic2_dept_desp[nid]):\n",
        "        dic2_dept_desp[nid][i]['mes']=dic_mes[elem['mes']]"
      ],
      "metadata": {
        "id": "2p-tig8oD8hK"
      },
      "execution_count": null,
      "outputs": []
    },
    {
      "cell_type": "markdown",
      "source": [
        "## Exportação dos dados pré-processados "
      ],
      "metadata": {
        "id": "4jrQGguPSQ3F"
      }
    },
    {
      "cell_type": "code",
      "source": [
        "# Exportação de dados selecionados dos deputados para arquivo JSON\n",
        "list_dept_mod = []\n",
        "for elem in list_dept:\n",
        "    list_dept_mod.append({\"id\": elem['id'], \"nome\": elem['nome'], \"email\": elem['email'],\\\n",
        "                            \"partido\": elem['siglaPartido'], \"uf\": elem['siglaUf'], \"foto\": elem['urlFoto']})\n",
        "with open('deputados2022.json', 'w', encoding='utf8') as arq:\n",
        "    json.dump(list_dept_mod, arq, ensure_ascii=False)"
      ],
      "metadata": {
        "id": "LmT7C1TQA0Hj"
      },
      "execution_count": null,
      "outputs": []
    },
    {
      "cell_type": "code",
      "source": [
        "# Upload do arquivo JSON dos deputados para o Google Drive\n",
        "file_metadata1 = {\n",
        "  'name': 'deputados2022',\n",
        "  'mimeType': 'application/json'\n",
        "}\n",
        "media1 = MediaFileUpload('deputados2022.json', \n",
        "                        mimetype='application/json',\n",
        "                        resumable=True)\n",
        "created1 = drive_service.files().create(body=file_metadata1,\n",
        "                                       media_body=media1,\n",
        "                                       fields='id').execute()"
      ],
      "metadata": {
        "id": "QjYnqc09H8a1"
      },
      "execution_count": null,
      "outputs": []
    },
    {
      "cell_type": "code",
      "source": [
        "# Atualização dos dados dos deputados federais\n",
        "fileId1 = created1.get('id')\n",
        "updated1 = drive_service.files().update(fileId=fileId1,\n",
        "                                        body=file_metadata1,\n",
        "                                        media_body=media1).execute()"
      ],
      "metadata": {
        "id": "14EmqIwZREm5"
      },
      "execution_count": null,
      "outputs": []
    },
    {
      "cell_type": "code",
      "source": [
        "# Exportação de dados selecionados das despesas para arquivo JSON\n",
        "list_dept_desp = []\n",
        "for chv in dic2_dept_desp.keys():\n",
        "    for elem in dic2_dept_desp[chv]:\n",
        "        list_dept_desp.append({\"id\": chv, \"tipo\": elem['tipoDespesa'], \"iddoc\": elem['codDocumento'],\\\n",
        "                                \"ano\": elem['ano'], \"mes\": elem['mes'], \"data\": elem['dataDocumento'],\\\n",
        "                                \"nomefornecedor\": elem['nomeFornecedor'], \"codfornecedor\": elem['cnpjCpfFornecedor'],\\\n",
        "                                \"valor\": elem['valorLiquido']})\n",
        "with open('despesas2022.json', 'w', encoding='utf8') as arq:\n",
        "    json.dump(list_dept_desp, arq, ensure_ascii=False)"
      ],
      "metadata": {
        "id": "G0zgpMefEn9h"
      },
      "execution_count": null,
      "outputs": []
    },
    {
      "cell_type": "code",
      "source": [
        "# Upload do arquivo JSON das despesas para o Google Drive\n",
        "file_metadata2 = {\n",
        "  'name': 'despesas2022',\n",
        "  'mimeType': 'application/json'\n",
        "}\n",
        "media2 = MediaFileUpload('despesas2022.json', \n",
        "                        mimetype='application/json',\n",
        "                        resumable=True)\n",
        "created2 = drive_service.files().create(body=file_metadata2,\n",
        "                                       media_body=media2,\n",
        "                                       fields='id').execute()"
      ],
      "metadata": {
        "id": "hxnWQ6fILRT3"
      },
      "execution_count": null,
      "outputs": []
    },
    {
      "cell_type": "code",
      "source": [
        "# Atualização dos dados das despesas realizadas\n",
        "fileId2 = created2.get('id')\n",
        "updated2 = drive_service.files().update(fileId=fileId2,\n",
        "                                        body=file_metadata2,\n",
        "                                        media_body=media2).execute()"
      ],
      "metadata": {
        "id": "nUQ8P1ZzWd4Y"
      },
      "execution_count": null,
      "outputs": []
    }
  ]
}
